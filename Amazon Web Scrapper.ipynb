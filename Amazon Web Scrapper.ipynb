{
 "cells": [
  {
   "cell_type": "code",
   "execution_count": 184,
   "id": "086c7374-53a3-465e-9637-0f97f5de4f46",
   "metadata": {},
   "outputs": [],
   "source": [
    "from bs4 import BeautifulSoup\n",
    "import requests\n",
    "import time\n",
    "import datetime\n",
    "import csv\n",
    "import pandas as pd\n",
    "\n",
    "import smtplib"
   ]
  },
  {
   "cell_type": "code",
   "execution_count": 186,
   "id": "6053757c-5857-40d8-9f32-957ab6195aaf",
   "metadata": {},
   "outputs": [
    {
     "name": "stdout",
     "output_type": "stream",
     "text": [
      "\n",
      "                    Got Data? Data Analyst Programmer Accountant T-Shirt\n",
      "                   \n",
      "\n",
      "                       $13.38\n",
      "                      \n"
     ]
    }
   ],
   "source": [
    "# Conect to Website\n",
    "URL = 'https://www.amazon.com/Data-Analyst-Programmer-Accountant-T-Shirt/dp/B0C1TCPZG5/ref=sr_1_3?crid=V4VBCBZTQD0Q&dib=eyJ2IjoiMSJ9.jzbO5NkJn8hwmrLpDtS-mwLjhrz_9c7az59DzO5ooHY9-P-scFa38yMkXzPlRiX9oZis6mO_3wTI1ROMdqvQl_TT5_O31njIbl3DafdxrHEAwAI2usD-qqQqUYzGb-h88cqDOSVfuKJnkGHvtWG1tWzzXfVqEqY2mW3P5i1h23Dxux42fvSQTHvAhNVpxCkeYZ-BrGZiul0q-jacig74MXaceP0xXp0JJ3vkfF47EWEUwMD0eDmm3K1UJvUA5Z1nnso2K-7ZPwyTi_3hFvX1klbFsQo9rMrZNs54GrYpL1c.Od3jC7CGbE0xJNNG7Ne6K3M4175OnZQ4I1_Vxqhxr4o&dib_tag=se&keywords=data%2Banalyst%2Bshirt&qid=1723049242&sprefix=DATA%2BANALYST%2B%2Caps%2C824&sr=8-3'\n",
    "\n",
    "headers = {\"User-Agent\": \"Mozilla/5.0 (Windows NT 10.0; Win64; x64) AppleWebKit/537.36 (KHTML, like Gecko) Chrome/127.0.0.0 Safari/537.36\", \"Accept-Encoding\": \"gzip, deflate\", \"Accept\": \"text/html,application/xhtml+xml,application/xml;q=0.9,*/*;q=0.8\", \"DNT\":\"1\",\"Connection\":\"close\",\"Upgrade-Insecure-Requests\":\"1\"}\n",
    "\n",
    "page = requests.get(URL, headers=headers)\n",
    "\n",
    "soup1 = BeautifulSoup(page.content, 'html.parser')\n",
    "soup2 = BeautifulSoup(soup1.prettify(), 'html.parser')\n",
    "\n",
    "title = soup2.find(id='productTitle').get_text()\n",
    "price = soup2.find('span', class_='a-offscreen').get_text()\n",
    "\n",
    "print(title)\n",
    "print(price)"
   ]
  },
  {
   "cell_type": "code",
   "execution_count": 188,
   "id": "c5ffdd12-f99b-4e46-86ba-bf1ab85f08cc",
   "metadata": {},
   "outputs": [
    {
     "name": "stdout",
     "output_type": "stream",
     "text": [
      "Got Data? Data Analyst Programmer Accountant T-Shirt\n",
      "13.38\n"
     ]
    },
    {
     "data": {
      "text/plain": [
       "str"
      ]
     },
     "execution_count": 188,
     "metadata": {},
     "output_type": "execute_result"
    }
   ],
   "source": [
    "title = title.strip()\n",
    "price = price.strip()[1:]\n",
    "print(title)\n",
    "print(price)\n",
    "type(price)"
   ]
  },
  {
   "cell_type": "code",
   "execution_count": 190,
   "id": "0389ce0c-6bf7-4fce-ace9-e6564b9cd037",
   "metadata": {},
   "outputs": [
    {
     "name": "stdout",
     "output_type": "stream",
     "text": [
      "2024-08-07\n"
     ]
    }
   ],
   "source": [
    "today = datetime.date.today()\n",
    "print(today)"
   ]
  },
  {
   "cell_type": "code",
   "execution_count": 192,
   "id": "46b39757-f867-4297-b3c5-874bd372fc50",
   "metadata": {},
   "outputs": [],
   "source": [
    "header = ['Title', 'Price', 'Date']\n",
    "data = [title, price, today]\n",
    "\n",
    "with open('AmazonWebScrapper.csv', 'w', newline='', encoding='UTF8') as f:\n",
    "    writer = csv.writer(f)\n",
    "    writer.writerow(header)\n",
    "    writer.writerow(data)"
   ]
  },
  {
   "cell_type": "code",
   "execution_count": 198,
   "id": "7f913570-579d-42b9-9432-1bfa0d1fa816",
   "metadata": {},
   "outputs": [
    {
     "name": "stdout",
     "output_type": "stream",
     "text": [
      "                                               Title  Price        Date\n",
      "0  Got Data? Data Analyst Programmer Accountant T...  13.38  2024-08-07\n",
      "1  Got Data? Data Analyst Programmer Accountant T...  13.38  2024-08-07\n"
     ]
    }
   ],
   "source": [
    "df = pd.read_csv(r'C:\\Users\\10agn\\AmazonWebScrapper.csv')\n",
    "print(df)"
   ]
  },
  {
   "cell_type": "code",
   "execution_count": 215,
   "id": "cce605f8-5fc7-43d3-b70b-b270df98bfa5",
   "metadata": {},
   "outputs": [],
   "source": [
    "# Appending data to csv\n",
    "\n",
    "with open('AmazonWebScrapper.csv', 'a+', newline='', encoding='UTF8') as f:\n",
    "    writer = csv.writer(f)\n",
    "    writer.writerow(data)"
   ]
  },
  {
   "cell_type": "code",
   "execution_count": 200,
   "id": "0162a7d0-04f2-40b0-830b-02505b6c6d7d",
   "metadata": {},
   "outputs": [],
   "source": [
    "def check_price():\n",
    "    URL = 'https://www.amazon.com/Data-Analyst-Programmer-Accountant-T-Shirt/dp/B0C1TCPZG5/ref=sr_1_3?crid=V4VBCBZTQD0Q&dib=eyJ2IjoiMSJ9.jzbO5NkJn8hwmrLpDtS-mwLjhrz_9c7az59DzO5ooHY9-P-scFa38yMkXzPlRiX9oZis6mO_3wTI1ROMdqvQl_TT5_O31njIbl3DafdxrHEAwAI2usD-qqQqUYzGb-h88cqDOSVfuKJnkGHvtWG1tWzzXfVqEqY2mW3P5i1h23Dxux42fvSQTHvAhNVpxCkeYZ-BrGZiul0q-jacig74MXaceP0xXp0JJ3vkfF47EWEUwMD0eDmm3K1UJvUA5Z1nnso2K-7ZPwyTi_3hFvX1klbFsQo9rMrZNs54GrYpL1c.Od3jC7CGbE0xJNNG7Ne6K3M4175OnZQ4I1_Vxqhxr4o&dib_tag=se&keywords=data%2Banalyst%2Bshirt&qid=1723049242&sprefix=DATA%2BANALYST%2B%2Caps%2C824&sr=8-3'\n",
    "\n",
    "    headers = {\"User-Agent\": \"Mozilla/5.0 (Windows NT 10.0; Win64; x64) AppleWebKit/537.36 (KHTML, like Gecko) Chrome/127.0.0.0 Safari/537.36\", \"Accept-Encoding\": \"gzip, deflate\", \"Accept\": \"text/html,application/xhtml+xml,application/xml;q=0.9,*/*;q=0.8\", \"DNT\":\"1\",\"Connection\":\"close\",\"Upgrade-Insecure-Requests\":\"1\"}\n",
    "\n",
    "    page = requests.get(URL, headers=headers)\n",
    "\n",
    "    soup1 = BeautifulSoup(page.content, 'html.parser')\n",
    "    soup2 = BeautifulSoup(soup1.prettify(), 'html.parser')\n",
    "\n",
    "    title = soup2.find(id='productTitle').get_text()\n",
    "    price = soup2.find('span', class_='a-offscreen').get_text()\n",
    "\n",
    "    title = title.strip()\n",
    "    price = price.strip()[1:]\n",
    "    today = datetime.date.today()\n",
    "\n",
    "    header = ['Title', 'Price', 'Date']\n",
    "    data = [title, price, today]\n",
    "\n",
    "    with open('AmazonWebScrapper.csv', 'a+', newline='', encoding='UTF8') as f:\n",
    "        writer = csv.writer(f)\n",
    "        writer.writerow(data) "
   ]
  },
  {
   "cell_type": "code",
   "execution_count": null,
   "id": "1c8abe4b-a25d-4146-840e-202091972386",
   "metadata": {},
   "outputs": [],
   "source": [
    "while(True):\n",
    "    check_price()\n",
    "    time.sleep(3600)"
   ]
  },
  {
   "cell_type": "code",
   "execution_count": 213,
   "id": "2b11379b-176b-4fd7-91fe-15b44116fdb1",
   "metadata": {},
   "outputs": [
    {
     "name": "stdout",
     "output_type": "stream",
     "text": [
      "                                                Title  Price        Date\n",
      "0   Got Data? Data Analyst Programmer Accountant T...  13.38  2024-08-07\n",
      "1   Got Data? Data Analyst Programmer Accountant T...  13.38  2024-08-07\n",
      "2   Got Data? Data Analyst Programmer Accountant T...  13.38  2024-08-07\n",
      "3   Got Data? Data Analyst Programmer Accountant T...  13.38  2024-08-07\n",
      "4   Got Data? Data Analyst Programmer Accountant T...  13.38  2024-08-07\n",
      "5   Got Data? Data Analyst Programmer Accountant T...  13.38  2024-08-07\n",
      "6   Got Data? Data Analyst Programmer Accountant T...  13.38  2024-08-07\n",
      "7   Got Data? Data Analyst Programmer Accountant T...  13.38  2024-08-07\n",
      "8   Got Data? Data Analyst Programmer Accountant T...  13.38  2024-08-07\n",
      "9   Got Data? Data Analyst Programmer Accountant T...  13.38  2024-08-07\n",
      "10  Got Data? Data Analyst Programmer Accountant T...  13.38  2024-08-07\n",
      "11  Got Data? Data Analyst Programmer Accountant T...  13.38  2024-08-07\n",
      "12  Got Data? Data Analyst Programmer Accountant T...  13.38  2024-08-07\n",
      "13  Got Data? Data Analyst Programmer Accountant T...  13.38  2024-08-07\n",
      "14  Got Data? Data Analyst Programmer Accountant T...  13.38  2024-08-07\n"
     ]
    }
   ],
   "source": [
    "df = pd.read_csv(r'C:\\Users\\10agn\\AmazonWebScrapper.csv')\n",
    "print(df)"
   ]
  },
  {
   "cell_type": "code",
   "execution_count": null,
   "id": "9d0b0e6b-e5b1-4705-af9d-8ca14d878162",
   "metadata": {},
   "outputs": [],
   "source": []
  }
 ],
 "metadata": {
  "kernelspec": {
   "display_name": "Python 3 (ipykernel)",
   "language": "python",
   "name": "python3"
  },
  "language_info": {
   "codemirror_mode": {
    "name": "ipython",
    "version": 3
   },
   "file_extension": ".py",
   "mimetype": "text/x-python",
   "name": "python",
   "nbconvert_exporter": "python",
   "pygments_lexer": "ipython3",
   "version": "3.12.4"
  }
 },
 "nbformat": 4,
 "nbformat_minor": 5
}
